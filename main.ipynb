{
  "nbformat": 4,
  "nbformat_minor": 0,
  "metadata": {
    "colab": {
      "name": "main.ipynb",
      "provenance": [],
      "collapsed_sections": [],
      "toc_visible": true,
      "include_colab_link": true
    },
    "kernelspec": {
      "display_name": "Python 3",
      "name": "python3"
    }
  },
  "cells": [
    {
      "cell_type": "markdown",
      "metadata": {
        "id": "view-in-github",
        "colab_type": "text"
      },
      "source": [
        "<a href=\"https://colab.research.google.com/github/EmperorTransisthor/DDoS_DetectionModel/blob/main/main.ipynb\" target=\"_parent\"><img src=\"https://colab.research.google.com/assets/colab-badge.svg\" alt=\"Open In Colab\"/></a>"
      ]
    },
    {
      "cell_type": "markdown",
      "metadata": {
        "id": "Gg4EQiMhq1Hp"
      },
      "source": [
        "# **Begin**\n",
        "In this section, we import libraries to our project, define datatypes, and download + unzip csv dataset"
      ]
    },
    {
      "cell_type": "code",
      "metadata": {
        "id": "o3azcgYo597c"
      },
      "source": [
        "# here we write all libraries which we are using in project\n",
        "import pandas as pd\n",
        "import numpy as np\n",
        "import matplotlib.pyplot as plt\n",
        "import sklearn\n",
        "import gc\n",
        "import csv\n",
        "import os, glob\n",
        "from sklearn.utils import shuffle\n",
        "from sklearn.neighbors import KNeighborsClassifier\n",
        "from sklearn import linear_model, preprocessing\n",
        "from sklearn.metrics import confusion_matrix\n",
        "from sklearn.metrics import plot_confusion_matrix\n",
        "from sklearn.metrics import classification_report\n",
        "from sklearn.metrics import log_loss\n",
        "from sklearn.metrics import precision_score\n",
        "from sklearn.metrics import recall_score\n",
        "import pickle #for saving our model\n",
        "from sklearn.model_selection import StratifiedShuffleSplit\n",
        "\n",
        "#test\n",
        "from sklearn.decomposition import PCA\n",
        "import seaborn as sns\n",
        "from tqdm import tqdm"
      ],
      "execution_count": null,
      "outputs": []
    },
    {
      "cell_type": "markdown",
      "metadata": {
        "id": "zh9H6TuvNFwb"
      },
      "source": [
        "First of all, we have to define datatypes of our dataset"
      ]
    },
    {
      "cell_type": "code",
      "metadata": {
        "id": "3-ME1JDX5-ol"
      },
      "source": [
        "dtypes = {\n",
        "    'Src IP': 'category',\n",
        "    'Src Port': 'uint16',\n",
        "    'Dst IP': 'category',\n",
        "    'Dst Port': 'uint16',\n",
        "    'Protocol': 'category',\n",
        "    'Flow Duration': 'uint32',\n",
        "    'Tot Fwd Pkts': 'uint32',\n",
        "    'Tot Bwd Pkts': 'uint32',\n",
        "    'TotLen Fwd Pkts': 'float32',\n",
        "    'TotLen Bwd Pkts': 'float32',\n",
        "    'Fwd Pkt Len Max': 'float32',\n",
        "    'Fwd Pkt Len Min': 'float32',\n",
        "    'Fwd Pkt Len Mean': 'float32',\n",
        "    'Fwd Pkt Len Std': 'float32',\n",
        "    'Bwd Pkt Len Max': 'float32',\n",
        "    'Bwd Pkt Len Min': 'float32',\n",
        "    'Bwd Pkt Len Mean': 'float32',\n",
        "    'Bwd Pkt Len Std': 'float32',\n",
        "    'Flow Byts/s': 'float32',\n",
        "    'Flow Pkts/s': 'float32',\n",
        "    'Flow IAT Mean': 'float32',\n",
        "    'Flow IAT Std': 'float32',\n",
        "    'Flow IAT Max': 'float32',\n",
        "    'Flow IAT Min': 'float32',\n",
        "    'Fwd IAT Tot': 'float32',\n",
        "    'Fwd IAT Mean': 'float32',\n",
        "    'Fwd IAT Std': 'float32',\n",
        "    'Fwd IAT Max': 'float32',\n",
        "    'Fwd IAT Min': 'float32',\n",
        "    'Bwd IAT Tot': 'float32',\n",
        "    'Bwd IAT Mean': 'float32',\n",
        "    'Bwd IAT Std': 'float32',\n",
        "    'Bwd IAT Max': 'float32',\n",
        "    'Bwd IAT Min': 'float32',\n",
        "    'Fwd PSH Flags': 'category',\n",
        "    'Bwd PSH Flags': 'category',\n",
        "    'Fwd URG Flags': 'category',\n",
        "    'Bwd URG Flags': 'category',\n",
        "    'Fwd Header Len': 'uint32',\n",
        "    'Bwd Header Len': 'uint32',\n",
        "    'Fwd Pkts/s': 'float32',\n",
        "    'Bwd Pkts/s': 'float32',\n",
        "    'Pkt Len Min': 'float32',\n",
        "    'Pkt Len Max': 'float32',\n",
        "    'Pkt Len Mean': 'float32',\n",
        "    'Pkt Len Std': 'float32',\n",
        "    'Pkt Len Var': 'float32',\n",
        "    'FIN Flag Cnt': 'category',\n",
        "    'SYN Flag Cnt': 'category',\n",
        "    'RST Flag Cnt': 'category',\n",
        "    'PSH Flag Cnt': 'category',\n",
        "    'ACK Flag Cnt': 'category',\n",
        "    'URG Flag Cnt': 'category',\n",
        "    'CWE Flag Count': 'category',\n",
        "    'ECE Flag Cnt': 'category',\n",
        "    'Down/Up Ratio': 'float32',\n",
        "    'Pkt Size Avg': 'float32',\n",
        "    'Fwd Seg Size Avg': 'float32',\n",
        "    'Bwd Seg Size Avg': 'float32',\n",
        "    'Fwd Byts/b Avg': 'uint32',\n",
        "    'Fwd Pkts/b Avg': 'uint32',\n",
        "    'Fwd Blk Rate Avg': 'uint32',\n",
        "    'Bwd Byts/b Avg': 'uint32',\n",
        "    'Bwd Pkts/b Avg': 'uint32',\n",
        "    'Bwd Blk Rate Avg': 'uint32',\n",
        "    'Subflow Fwd Pkts': 'uint32',\n",
        "    'Subflow Fwd Byts': 'uint32',\n",
        "    'Subflow Bwd Pkts': 'uint32',\n",
        "    'Subflow Bwd Byts': 'uint32',\n",
        "    'Init Fwd Win Byts': 'uint32',\n",
        "    'Init Bwd Win Byts': 'uint32',\n",
        "    'Fwd Act Data Pkts': 'uint32',\n",
        "    'Fwd Seg Size Min': 'uint32',\n",
        "    'Active Mean': 'float32',\n",
        "    'Active Std': 'float32',\n",
        "    'Active Max': 'float32',\n",
        "    'Active Min': 'float32',\n",
        "    'Idle Mean': 'float32',\n",
        "    'Idle Std': 'float32',\n",
        "    'Idle Max': 'float32',\n",
        "    'Idle Min': 'float32',\n",
        "    'Label': 'category'\n",
        "}"
      ],
      "execution_count": null,
      "outputs": []
    },
    {
      "cell_type": "markdown",
      "metadata": {
        "id": "yN5Z2xecNV3A"
      },
      "source": [
        "Importing dataset from kaggle"
      ]
    },
    {
      "cell_type": "code",
      "metadata": {
        "colab": {
          "base_uri": "https://localhost:8080/"
        },
        "id": "fwVD3rIgI5y4",
        "outputId": "008d5017-397f-4238-eba2-4666d33d6743"
      },
      "source": [
        "# importing dataset from kaggle\n",
        "os.system('chmod 600 /content/kaggle.json')               # Making kaggle.json invisible to other users of colab\n",
        "os.environ['KAGGLE_CONFIG_DIR'] =  '/content'             # setting path to folder by using environmental variable\n",
        "!kaggle datasets download -d devendra416/ddos-datasets    # here we download datasets"
      ],
      "execution_count": null,
      "outputs": [
        {
          "output_type": "stream",
          "text": [
            "Downloading ddos-datasets.zip to /content\n",
            "100% 2.68G/2.68G [00:26<00:00, 57.5MB/s]\n",
            "100% 2.68G/2.68G [00:26<00:00, 109MB/s] \n"
          ],
          "name": "stdout"
        }
      ]
    },
    {
      "cell_type": "code",
      "metadata": {
        "colab": {
          "base_uri": "https://localhost:8080/"
        },
        "id": "j8Dk5onf1Z2Y",
        "outputId": "d2eec37b-f64c-44d9-a2ad-0398e3238ab1"
      },
      "source": [
        "!unzip \\*.zip && rm  *.zip                                # we are using these commands to unzip and then remove zip files"
      ],
      "execution_count": null,
      "outputs": [
        {
          "output_type": "stream",
          "text": [
            "Archive:  ddos-datasets.zip\n",
            "  inflating: ddos_balanced/final_dataset.csv  \n",
            "  inflating: ddos_imbalanced/unbalaced_20_80_dataset.csv  \n"
          ],
          "name": "stdout"
        }
      ]
    },
    {
      "cell_type": "markdown",
      "metadata": {
        "id": "N61_bfHegFh5"
      },
      "source": [
        "Here we load our dataset and assign datatypes. Since, we don't have lots of RAM, we have to set low_memory option to TRUE"
      ]
    },
    {
      "cell_type": "code",
      "metadata": {
        "colab": {
          "base_uri": "https://localhost:8080/"
        },
        "id": "5zWjsXImZCzd",
        "outputId": "1d78c0e7-ea12-440e-ef14-0eee37858efb"
      },
      "source": [
        "#######   using panda to view data in our datasets\n",
        "df_combined = pd.read_csv('/content/ddos_balanced/final_dataset.csv', dtype=dtypes,low_memory=True)\n",
        "len(df_combined)\n",
        "\n",
        "#df_mem_prev = df_combined.memory_usage().sum() / 1024**2"
      ],
      "execution_count": null,
      "outputs": [
        {
          "output_type": "execute_result",
          "data": {
            "text/plain": [
              "12794627"
            ]
          },
          "metadata": {
            "tags": []
          },
          "execution_count": 5
        }
      ]
    },
    {
      "cell_type": "markdown",
      "metadata": {
        "id": "IF3svHI8SN6P"
      },
      "source": [
        "# **Data separation, in case we run out of RAM**"
      ]
    },
    {
      "cell_type": "code",
      "metadata": {
        "id": "lLkUxtR8ZRUK"
      },
      "source": [
        "# SKIP\n",
        "# here we take 1/2 of our dataset from head and from tail\n",
        "df_combined.head(3198656).to_csv('dataset_ddos.csv')\n",
        "df_combined.tail(3198656).to_csv('dataset_benign.csv')"
      ],
      "execution_count": null,
      "outputs": []
    },
    {
      "cell_type": "markdown",
      "metadata": {
        "id": "dmJaQI1umYQw"
      },
      "source": [
        "We delete full dataset, which is no longer needed and will only fill memory"
      ]
    },
    {
      "cell_type": "code",
      "metadata": {
        "id": "MEVzmB7mN2Wj",
        "colab": {
          "base_uri": "https://localhost:8080/"
        },
        "outputId": "389daace-3963-4396-f565-b309327672c2"
      },
      "source": [
        "del df_combined\n",
        "gc.collect()"
      ],
      "execution_count": null,
      "outputs": [
        {
          "output_type": "execute_result",
          "data": {
            "text/plain": [
              "50"
            ]
          },
          "metadata": {
            "tags": []
          },
          "execution_count": 7
        }
      ]
    },
    {
      "cell_type": "markdown",
      "metadata": {
        "id": "7jRJ8kIXOKVC"
      },
      "source": [
        "Here we merge it"
      ]
    },
    {
      "cell_type": "code",
      "metadata": {
        "id": "O_16a6puZX4K"
      },
      "source": [
        "#find all csv files in the folder\n",
        "#use glob pattern matching -> extension = 'csv'\n",
        "#save result in list -> all_filenames\n",
        "extension = 'csv'\n",
        "all_filenames = [i for i in glob.glob('*.{}'.format(extension))]\n",
        "#print(all_filenames)\n",
        "\n",
        "#combine all files in the list\n",
        "combined_csv = pd.concat([pd.read_csv(f) for f in all_filenames ])\n",
        "#export to csv\n",
        "combined_csv.to_csv( \"combined_csv.csv\", index=False, encoding='utf-8-sig')"
      ],
      "execution_count": null,
      "outputs": []
    },
    {
      "cell_type": "code",
      "metadata": {
        "id": "es8kbGcBz_Z4",
        "colab": {
          "base_uri": "https://localhost:8080/"
        },
        "outputId": "48627a91-8fd4-4f12-aae2-9cbef228363e"
      },
      "source": [
        "del combined_csv\n",
        "del all_filenames\n",
        "del extension\n",
        "gc.collect()"
      ],
      "execution_count": null,
      "outputs": [
        {
          "output_type": "execute_result",
          "data": {
            "text/plain": [
              "50"
            ]
          },
          "metadata": {
            "tags": []
          },
          "execution_count": 9
        }
      ]
    },
    {
      "cell_type": "markdown",
      "metadata": {
        "id": "FQ0TLzSMOk2s"
      },
      "source": [
        "We are loading our cut dataset"
      ]
    },
    {
      "cell_type": "code",
      "metadata": {
        "id": "1wNFL9GH5Nv1",
        "colab": {
          "base_uri": "https://localhost:8080/"
        },
        "outputId": "e2e9ea85-7d74-423e-c8cf-e52d1ce1d37f"
      },
      "source": [
        "df_combined = pd.read_csv('/content/combined_csv.csv', dtype=dtypes,low_memory=True) \n",
        "df_mem_post = df_combined.memory_usage().sum() / 1024**2\n",
        "#print('final_dataset is using', df_mem_prev, ' MBs of RAM')\n",
        "#print('difference = ', df_mem_prev - df_mem_post)\n",
        "data = df_combined[['Flow Duration', 'Label']]\n",
        "data['Label'].value_counts() "
      ],
      "execution_count": null,
      "outputs": [
        {
          "output_type": "execute_result",
          "data": {
            "text/plain": [
              "Benign    3198656\n",
              "ddos      3198656\n",
              "Name: Label, dtype: int64"
            ]
          },
          "metadata": {
            "tags": []
          },
          "execution_count": 10
        }
      ]
    },
    {
      "cell_type": "markdown",
      "metadata": {
        "id": "KButtub5VkYK"
      },
      "source": [
        "**End of data separation**"
      ]
    },
    {
      "cell_type": "markdown",
      "metadata": {
        "id": "9fcApEdgVs-w"
      },
      "source": [
        "# **Data processing**"
      ]
    },
    {
      "cell_type": "markdown",
      "metadata": {
        "id": "lm5bh2WAWAUf"
      },
      "source": [
        "First we verify our data\n"
      ]
    },
    {
      "cell_type": "code",
      "metadata": {
        "id": "NfuBGp43U6HI",
        "colab": {
          "base_uri": "https://localhost:8080/"
        },
        "outputId": "d2324495-9feb-49e3-9c79-bb377205b6c6"
      },
      "source": [
        "df_combined.isna().sum().sum"
      ],
      "execution_count": null,
      "outputs": [
        {
          "output_type": "execute_result",
          "data": {
            "text/plain": [
              "<bound method Series.sum of Unnamed: 0      0\n",
              "Unnamed: 0.1    0\n",
              "Flow ID         0\n",
              "Src IP          0\n",
              "Src Port        0\n",
              "               ..\n",
              "Idle Mean       0\n",
              "Idle Std        0\n",
              "Idle Max        0\n",
              "Idle Min        0\n",
              "Label           0\n",
              "Length: 86, dtype: int64>"
            ]
          },
          "metadata": {
            "tags": []
          },
          "execution_count": 11
        }
      ]
    },
    {
      "cell_type": "code",
      "metadata": {
        "id": "WuHlzfqgnNfO",
        "colab": {
          "base_uri": "https://localhost:8080/"
        },
        "outputId": "5218ab7d-5c63-4992-fa08-5fa7be8b47bc"
      },
      "source": [
        "data = df_combined[['Flow Duration', 'Label']]\n",
        "data['Label'].value_counts() "
      ],
      "execution_count": null,
      "outputs": [
        {
          "output_type": "execute_result",
          "data": {
            "text/plain": [
              "Benign    3198656\n",
              "ddos      3198656\n",
              "Name: Label, dtype: int64"
            ]
          },
          "metadata": {
            "tags": []
          },
          "execution_count": 12
        }
      ]
    },
    {
      "cell_type": "code",
      "metadata": {
        "id": "wD5pgGIf9GkP",
        "colab": {
          "base_uri": "https://localhost:8080/"
        },
        "outputId": "94b8d103-6ba9-4350-b832-4d9208760504"
      },
      "source": [
        "del data\n",
        "gc.collect()"
      ],
      "execution_count": null,
      "outputs": [
        {
          "output_type": "execute_result",
          "data": {
            "text/plain": [
              "150"
            ]
          },
          "metadata": {
            "tags": []
          },
          "execution_count": 13
        }
      ]
    },
    {
      "cell_type": "markdown",
      "metadata": {
        "id": "RE9GH1n2O0WY"
      },
      "source": [
        "Dropping rows with values, which aren't unique"
      ]
    },
    {
      "cell_type": "code",
      "metadata": {
        "id": "HkxSd6Mioj_c",
        "colab": {
          "base_uri": "https://localhost:8080/"
        },
        "outputId": "5dccc45c-3265-42ac-d310-40e6886f79f0"
      },
      "source": [
        "# dropping collums with one value\n",
        "colsToDrop = np.array(['Fwd Byts/b Avg', 'Fwd Pkts/b Avg', 'Fwd Blk Rate Avg', 'Bwd Byts/b Avg', 'Bwd Pkts/b Avg', 'Bwd Blk Rate Avg'])\n",
        "gc.collect()"
      ],
      "execution_count": null,
      "outputs": [
        {
          "output_type": "execute_result",
          "data": {
            "text/plain": [
              "50"
            ]
          },
          "metadata": {
            "tags": []
          },
          "execution_count": 14
        }
      ]
    },
    {
      "cell_type": "code",
      "metadata": {
        "id": "9YcqZPLRoweO",
        "colab": {
          "base_uri": "https://localhost:8080/"
        },
        "outputId": "73c038a2-a34f-45cf-c44a-a91e76cf0c4d"
      },
      "source": [
        "# counting unique values and checking for skewness in the data\n",
        "rowbuilder = lambda col: {'col': col, 'unique_values': df_combined[col].nunique(), 'most_frequent_value': df_combined[col].value_counts().index[0],'frequency': df_combined[col].value_counts(normalize=True).values[0]}\n",
        "frequency = [rowbuilder(col) for col in df_combined.select_dtypes(include=['category']).columns]\n",
        "skewed = pd.DataFrame(frequency)\n",
        "skewed = skewed[skewed['frequency'] >= 0.95]\n",
        "colsToDrop = np.union1d(colsToDrop, skewed['col'].values)\n",
        "colsToDrop\n",
        "del skewed\n",
        "del rowbuilder\n",
        "del frequency\n",
        "gc.collect()"
      ],
      "execution_count": null,
      "outputs": [
        {
          "output_type": "execute_result",
          "data": {
            "text/plain": [
              "0"
            ]
          },
          "metadata": {
            "tags": []
          },
          "execution_count": 15
        }
      ]
    },
    {
      "cell_type": "markdown",
      "metadata": {
        "id": "WwlyMzYkPJxP"
      },
      "source": [
        "Dropping null values"
      ]
    },
    {
      "cell_type": "code",
      "metadata": {
        "id": "REdnUx_Towx8",
        "colab": {
          "base_uri": "https://localhost:8080/"
        },
        "outputId": "04d8c783-bd20-4819-f0e8-aac8cfefbfc2"
      },
      "source": [
        "missing = df_combined.isna().sum()\n",
        "missing = pd.DataFrame({'count': missing, '% of total': missing/len(df_combined)*100}, index=df_combined.columns)\n",
        "colsToDrop = np.union1d(colsToDrop, missing[missing['% of total'] >= 50].index.values)\n",
        "dropnaCols = missing[(missing['% of total'] > 0) & (missing['% of total'] <= 5)].index.values\n",
        "gc.collect()"
      ],
      "execution_count": null,
      "outputs": [
        {
          "output_type": "execute_result",
          "data": {
            "text/plain": [
              "50"
            ]
          },
          "metadata": {
            "tags": []
          },
          "execution_count": 16
        }
      ]
    },
    {
      "cell_type": "markdown",
      "metadata": {
        "id": "7ncEF4zFPpgT"
      },
      "source": [
        "Replacing faulty data"
      ]
    },
    {
      "cell_type": "code",
      "metadata": {
        "id": "ICHqixVvpEf_",
        "colab": {
          "base_uri": "https://localhost:8080/"
        },
        "outputId": "73a0b8bd-430a-416c-cda1-08f01639afe9"
      },
      "source": [
        "df_combined['Flow Byts/s'].replace(np.inf, np.nan)\n",
        "df_combined['Flow Pkts/s'].replace(np.inf, np.nan)\n",
        "dropnaCols = np.union1d(dropnaCols, ['Flow Byts/s', 'Flow Pkts/s'])\n",
        "gc.collect()"
      ],
      "execution_count": null,
      "outputs": [
        {
          "output_type": "execute_result",
          "data": {
            "text/plain": [
              "50"
            ]
          },
          "metadata": {
            "tags": []
          },
          "execution_count": 17
        }
      ]
    },
    {
      "cell_type": "code",
      "metadata": {
        "id": "YrHeYszZpJ3w",
        "colab": {
          "base_uri": "https://localhost:8080/"
        },
        "outputId": "53561cf8-ea1b-4bdb-8910-6c0869e5e416"
      },
      "source": [
        "# perform actual drop\n",
        "df_combined.drop(columns=colsToDrop)\n",
        "gc.collect()"
      ],
      "execution_count": null,
      "outputs": [
        {
          "output_type": "execute_result",
          "data": {
            "text/plain": [
              "53"
            ]
          },
          "metadata": {
            "tags": []
          },
          "execution_count": 18
        }
      ]
    },
    {
      "cell_type": "markdown",
      "metadata": {
        "id": "LpJzix2fP8ds"
      },
      "source": [
        "Regaining RAM in order not to drop the session"
      ]
    },
    {
      "cell_type": "code",
      "metadata": {
        "id": "h4lHpr2-_DIi",
        "colab": {
          "base_uri": "https://localhost:8080/"
        },
        "outputId": "f52fc627-c1ef-46d1-a9d7-09dc2e6362c2"
      },
      "source": [
        "del colsToDrop, missing\n",
        "gc.collect()"
      ],
      "execution_count": null,
      "outputs": [
        {
          "output_type": "execute_result",
          "data": {
            "text/plain": [
              "50"
            ]
          },
          "metadata": {
            "tags": []
          },
          "execution_count": 19
        }
      ]
    },
    {
      "cell_type": "code",
      "metadata": {
        "colab": {
          "base_uri": "https://localhost:8080/"
        },
        "id": "zWDvVEUI--L5",
        "outputId": "0f94d95f-31b3-4ba8-bcf5-e5a8482d3df8"
      },
      "source": [
        "df_combined.dropna(subset=dropnaCols)\n",
        "gc.collect()"
      ],
      "execution_count": null,
      "outputs": [
        {
          "output_type": "execute_result",
          "data": {
            "text/plain": [
              "63"
            ]
          },
          "metadata": {
            "tags": []
          },
          "execution_count": 20
        }
      ]
    },
    {
      "cell_type": "code",
      "metadata": {
        "colab": {
          "base_uri": "https://localhost:8080/"
        },
        "id": "-cKdALBU_f4E",
        "outputId": "8cbebb48-01be-46d9-ec43-ec903a0306ec"
      },
      "source": [
        "del dropnaCols\n",
        "gc.collect()"
      ],
      "execution_count": null,
      "outputs": [
        {
          "output_type": "execute_result",
          "data": {
            "text/plain": [
              "50"
            ]
          },
          "metadata": {
            "tags": []
          },
          "execution_count": 21
        }
      ]
    },
    {
      "cell_type": "code",
      "metadata": {
        "colab": {
          "base_uri": "https://localhost:8080/"
        },
        "id": "sn5wn0WtwDiG",
        "outputId": "7d8b75bd-fc28-40f1-8798-c10b0e319da2"
      },
      "source": [
        "data = df_combined[['Flow Duration', 'Label']]\n",
        "data['Label'].value_counts() "
      ],
      "execution_count": null,
      "outputs": [
        {
          "output_type": "execute_result",
          "data": {
            "text/plain": [
              "Benign    3198656\n",
              "ddos      3198656\n",
              "Name: Label, dtype: int64"
            ]
          },
          "metadata": {
            "tags": []
          },
          "execution_count": 22
        }
      ]
    },
    {
      "cell_type": "code",
      "metadata": {
        "colab": {
          "base_uri": "https://localhost:8080/"
        },
        "id": "ACWi_JtQj9IC",
        "outputId": "59a56904-8583-42b2-8be6-762de5f797ab"
      },
      "source": [
        "del data\n",
        "gc.collect()"
      ],
      "execution_count": null,
      "outputs": [
        {
          "output_type": "execute_result",
          "data": {
            "text/plain": [
              "100"
            ]
          },
          "metadata": {
            "tags": []
          },
          "execution_count": 23
        }
      ]
    },
    {
      "cell_type": "markdown",
      "metadata": {
        "id": "7X4fWrFiQLKE"
      },
      "source": [
        "Removing rows with negative values"
      ]
    },
    {
      "cell_type": "code",
      "metadata": {
        "colab": {
          "base_uri": "https://localhost:8080/"
        },
        "id": "iSdHFMT_pPSn",
        "outputId": "91994082-1574-4099-9623-54b46e8703ac"
      },
      "source": [
        "negValCols = ['Flow Pkts/s', 'Flow IAT Mean', 'Flow IAT Max', 'Flow IAT Min', 'Bwd IAT Tot', 'Bwd IAT Mean', 'Bwd IAT Max', 'Bwd IAT Min']\n",
        "for col in negValCols:\n",
        "    df_combined = df_combined[df_combined[col] >= 0]\n",
        "gc.collect()"
      ],
      "execution_count": null,
      "outputs": [
        {
          "output_type": "execute_result",
          "data": {
            "text/plain": [
              "68"
            ]
          },
          "metadata": {
            "tags": []
          },
          "execution_count": 24
        }
      ]
    },
    {
      "cell_type": "code",
      "metadata": {
        "colab": {
          "base_uri": "https://localhost:8080/"
        },
        "id": "FZTqqG3q_24a",
        "outputId": "d97a0109-01d1-4aa1-b3c1-79bd8c510eed"
      },
      "source": [
        "data = df_combined[['Flow Duration', 'Label']]\n",
        "data['Label'].value_counts() "
      ],
      "execution_count": null,
      "outputs": [
        {
          "output_type": "execute_result",
          "data": {
            "text/plain": [
              "ddos      3198656\n",
              "Benign    3198454\n",
              "Name: Label, dtype: int64"
            ]
          },
          "metadata": {
            "tags": []
          },
          "execution_count": 25
        }
      ]
    },
    {
      "cell_type": "code",
      "metadata": {
        "colab": {
          "base_uri": "https://localhost:8080/"
        },
        "id": "9Qtb0HMF_4-s",
        "outputId": "1e195b6e-1c95-43f5-a4e3-b4bb00779efc"
      },
      "source": [
        "del data, negValCols\n",
        "gc.collect()"
      ],
      "execution_count": null,
      "outputs": [
        {
          "output_type": "execute_result",
          "data": {
            "text/plain": [
              "150"
            ]
          },
          "metadata": {
            "tags": []
          },
          "execution_count": 26
        }
      ]
    },
    {
      "cell_type": "markdown",
      "metadata": {
        "id": "KBjMoLE5RXT_"
      },
      "source": [
        "Now, we have prepared dataset to train our model, but before we do anything, we have to shuffle dataset in order to prevent it from overfitting"
      ]
    },
    {
      "cell_type": "code",
      "metadata": {
        "id": "2MhODC7OAnsT"
      },
      "source": [
        "split = StratifiedShuffleSplit()\n",
        "for train_index, test_index in split.split(df_combined, df_combined[\"Label\"]):\n",
        "    traindf = df_combined.iloc[train_index]\n",
        "\n",
        "del df_combined, split\n",
        "gc.collect();"
      ],
      "execution_count": null,
      "outputs": []
    },
    {
      "cell_type": "markdown",
      "metadata": {
        "id": "Hy2aifqc1Llb"
      },
      "source": [
        "# **AI TRAINING**"
      ]
    },
    {
      "cell_type": "markdown",
      "metadata": {
        "id": "8FGB_T9vQ1Lf"
      },
      "source": [
        "Before we can train our AI, we have to change format of our data to numerical type"
      ]
    },
    {
      "cell_type": "code",
      "metadata": {
        "id": "z7slXoCEAx05"
      },
      "source": [
        "le = preprocessing.LabelEncoder()\n",
        "\n",
        "timestamp = le.fit_transform(list(traindf[\"Timestamp\"]))\n",
        "fl_dur = le.fit_transform(list(traindf[\"Flow Duration\"]))\n",
        "pk_size_avrg = le.fit_transform(list(traindf[\"Pkt Size Avg\"]))\n",
        "fwd_pkts = le.fit_transform(list(traindf[\"Fwd Pkts/s\"]))\n",
        "bwd_pkts = le.fit_transform(list(traindf[\"Bwd Pkts/s\"]))\n",
        "flow_byts = le.fit_transform(list(traindf[\"Flow Byts/s\"]))\n",
        "flow_pkts = le.fit_transform(list(traindf[\"Flow Pkts/s\"]))\n",
        "Label = le.fit_transform(list(traindf['Label']))\n",
        "\n",
        "#X - data on which machine is learning\n",
        "X = list(zip(timestamp, fl_dur, pk_size_avrg, fwd_pkts, bwd_pkts, flow_byts, flow_pkts)) \n",
        "#Y - data which says if data is normal or is anomaly \n",
        "Y = list(Label)            "
      ],
      "execution_count": null,
      "outputs": []
    },
    {
      "cell_type": "markdown",
      "metadata": {
        "id": "V0vZs_E7ROl0"
      },
      "source": [
        "Regaining RAM once again"
      ]
    },
    {
      "cell_type": "code",
      "metadata": {
        "id": "Frt1RiSvqm3L"
      },
      "source": [
        "# here we divide our data to 2 sets: training and test\n",
        "x_train, x_test, y_train, y_test = sklearn.model_selection.train_test_split(X, Y, test_size = 0.1)   # test_size = 0.1 draws 10% of dataset"
      ],
      "execution_count": null,
      "outputs": []
    },
    {
      "cell_type": "code",
      "metadata": {
        "id": "yI__F7kbLP8V",
        "colab": {
          "base_uri": "https://localhost:8080/"
        },
        "outputId": "1b514a43-a0fa-4b18-a4dd-a1328da4f4c2"
      },
      "source": [
        "del X, Y, traindf\n",
        "#del x_test, y_test\n",
        "gc.collect()"
      ],
      "execution_count": null,
      "outputs": [
        {
          "output_type": "execute_result",
          "data": {
            "text/plain": [
              "0"
            ]
          },
          "metadata": {
            "tags": []
          },
          "execution_count": 32
        }
      ]
    },
    {
      "cell_type": "markdown",
      "metadata": {
        "id": "X_dBkKc4RT3O"
      },
      "source": [
        "To train our our model, we have chosen KNN method. We have iteratively checked the most optimal value for n_neighbours = 9"
      ]
    },
    {
      "cell_type": "code",
      "metadata": {
        "id": "1hPeEUAe0M7y",
        "colab": {
          "base_uri": "https://localhost:8080/"
        },
        "outputId": "cd55dda1-e5dc-479f-9dab-2ad3c1710348"
      },
      "source": [
        "#here we train our machine\n",
        "model = KNeighborsClassifier(n_neighbors=9)\n",
        "model.fit(x_train, y_train)"
      ],
      "execution_count": null,
      "outputs": [
        {
          "output_type": "execute_result",
          "data": {
            "text/plain": [
              "KNeighborsClassifier(algorithm='auto', leaf_size=30, metric='minkowski',\n",
              "                     metric_params=None, n_jobs=None, n_neighbors=9, p=2,\n",
              "                     weights='uniform')"
            ]
          },
          "metadata": {
            "tags": []
          },
          "execution_count": 33
        }
      ]
    },
    {
      "cell_type": "code",
      "metadata": {
        "id": "PI1qZKMcK26K"
      },
      "source": [
        "# saving our model\n",
        "with open(\"ddosdetectormodel.pickle\",\"wb\") as ddos:\n",
        "  pickle.dump(model, ddos)"
      ],
      "execution_count": null,
      "outputs": []
    },
    {
      "cell_type": "markdown",
      "metadata": {
        "id": "HOipSpxO2zbg"
      },
      "source": [
        "# Testing our model on balanced dataset"
      ]
    },
    {
      "cell_type": "code",
      "metadata": {
        "id": "Ygdttj7IATSL",
        "colab": {
          "base_uri": "https://localhost:8080/"
        },
        "outputId": "dd239898-522e-47d8-e972-eef8e790e96b"
      },
      "source": [
        "acc = model.score(x_test, y_test)\n",
        "print(\"Prediction accuracy: \", acc)"
      ],
      "execution_count": null,
      "outputs": [
        {
          "output_type": "stream",
          "text": [
            "Prediction accuracy:  0.9981293639490048\n"
          ],
          "name": "stdout"
        }
      ]
    },
    {
      "cell_type": "markdown",
      "metadata": {
        "id": "7cTF9DdhACVI"
      },
      "source": [
        "Confusion Matrix for data, where we have trained our AI"
      ]
    },
    {
      "cell_type": "code",
      "metadata": {
        "id": "ewTCod0_ABTm",
        "colab": {
          "base_uri": "https://localhost:8080/"
        },
        "outputId": "2ce23db4-a078-4c3d-8c49-5b7ba27de537"
      },
      "source": [
        "y_pred = model.predict(x_test)\n",
        "conf_m = confusion_matrix(y_test, y_pred)\n",
        "print(conf_m)"
      ],
      "execution_count": null,
      "outputs": [
        {
          "output_type": "stream",
          "text": [
            "[[287580    689]\n",
            " [   388 287083]]\n"
          ],
          "name": "stdout"
        }
      ]
    },
    {
      "cell_type": "code",
      "metadata": {
        "id": "GJFj2l8w9Azi",
        "colab": {
          "base_uri": "https://localhost:8080/",
          "height": 279
        },
        "outputId": "1d713845-6c2c-4b07-bbf6-9a2508204941"
      },
      "source": [
        "plot_confusion_matrix(model, x_test, y_test)\n",
        "plt.show()"
      ],
      "execution_count": null,
      "outputs": [
        {
          "output_type": "display_data",
          "data": {
            "image/png": "[encoded data removed]",
            "text/plain": [
              "<Figure size 432x288 with 2 Axes>"
            ]
          },
          "metadata": {
            "tags": [],
            "needs_background": "light"
          }
        }
      ]
    },
    {
      "cell_type": "markdown",
      "metadata": {
        "id": "A631FCF1oqW7"
      },
      "source": [
        "Precision of our algorithm"
      ]
    },
    {
      "cell_type": "code",
      "metadata": {
        "id": "EgxYEpq_o96L",
        "colab": {
          "base_uri": "https://localhost:8080/"
        },
        "outputId": "c6db9193-e0c0-4d93-85b0-54ac20c5bda1"
      },
      "source": [
        "precision_m = precision_score(y_test, y_pred, average=None)\n",
        "print(\"Precision in benign traffic detection: \", precision_m[0])\n",
        "print(\"Precision in DDoS traffic detection:   \", precision_m[1])"
      ],
      "execution_count": null,
      "outputs": [
        {
          "output_type": "stream",
          "text": [
            "Precision in benign traffic detection:  0.9986526280697855\n",
            "Precision in DDoS traffic detection:    0.9976057434357756\n"
          ],
          "name": "stdout"
        }
      ]
    },
    {
      "cell_type": "markdown",
      "metadata": {
        "id": "wKJSrhoEr7TQ"
      },
      "source": [
        "Recall of our algorithm"
      ]
    },
    {
      "cell_type": "code",
      "metadata": {
        "id": "oTN7pBOnQORY",
        "colab": {
          "base_uri": "https://localhost:8080/"
        },
        "outputId": "db6066fc-c631-4f09-de95-c884b0e9b9f8"
      },
      "source": [
        "recall_m = recall_score(y_test, y_pred, average=None)\n",
        "print(\"Recall of benign traffic: \", recall_m[0])\n",
        "print(\"Recall of DDoS traffic:   \", recall_m[1])"
      ],
      "execution_count": null,
      "outputs": [
        {
          "output_type": "stream",
          "text": [
            "Recall of benign traffic:  0.9976098713354541\n",
            "Recall of DDoS traffic:    0.9986502986388193\n"
          ],
          "name": "stdout"
        }
      ]
    },
    {
      "cell_type": "markdown",
      "metadata": {
        "id": "FCA1PJysTd5L"
      },
      "source": [
        "Loss"
      ]
    },
    {
      "cell_type": "code",
      "metadata": {
        "id": "mfVpeRxnTfJV",
        "colab": {
          "base_uri": "https://localhost:8080/"
        },
        "outputId": "be8821e7-0857-42e6-e11d-d8bffabacd29"
      },
      "source": [
        "loss = log_loss(y_test, y_pred)\n",
        "print(\"Log loss is \", loss)"
      ],
      "execution_count": null,
      "outputs": [
        {
          "output_type": "stream",
          "text": [
            "Log loss is  0.06461043717641432\n"
          ],
          "name": "stdout"
        }
      ]
    },
    {
      "cell_type": "code",
      "metadata": {
        "id": "yQq1QRRkgfcz",
        "colab": {
          "base_uri": "https://localhost:8080/"
        },
        "outputId": "1a0376b8-92a1-4d0c-8d74-3417c0f58ea7"
      },
      "source": [
        "# Regaining some RAM\n",
        "del x_test\n",
        "del y_test\n",
        "del x_train\n",
        "del y_train\n",
        "gc.collect()"
      ],
      "execution_count": null,
      "outputs": [
        {
          "output_type": "execute_result",
          "data": {
            "text/plain": [
              "3638"
            ]
          },
          "metadata": {
            "tags": []
          },
          "execution_count": 41
        }
      ]
    },
    {
      "cell_type": "markdown",
      "metadata": {
        "id": "zCI1rui03Xu8"
      },
      "source": [
        "Now, we consider our algorithm to be quite precise. Unfortunately, we can't make it even better, because colab machine has limted resources. With full dataset, we would 've made our algorithm even more precise with better Loss parameter. The problem is, that we have tested our algorithm on dataset, which is balanced. This is important, because in reality, DDoS attacks aren't occuring on a daily basis. Therefore, we have to test it on unbalanced dataset, which is much closer to the reality, than balanced."
      ]
    },
    {
      "cell_type": "markdown",
      "metadata": {
        "id": "RV8Henc8WlLG"
      },
      "source": [
        "# Unbalanced dataset test"
      ]
    },
    {
      "cell_type": "markdown",
      "metadata": {
        "id": "IrKFTbDe5Roe"
      },
      "source": [
        "To make the test legit, we have to test it on unbalanced dataset, because real environment is unbalanced. "
      ]
    },
    {
      "cell_type": "code",
      "metadata": {
        "id": "lLGtnmPKWxMc"
      },
      "source": [
        "df_test = pd.read_csv('/content/ddos_imbalanced/unbalaced_20_80_dataset.csv', dtype=dtypes,low_memory=True)"
      ],
      "execution_count": null,
      "outputs": []
    },
    {
      "cell_type": "code",
      "metadata": {
        "id": "HJG-qvPodfD6"
      },
      "source": [
        "# here we load imbalanced dataset\n",
        "# df_train = pd.read_csv('/content/ddos_imbalanced/unbalaced_20_80_dataset.csv', dtype=dtypes,low_memory=True, nrows = 1000000)  \n",
        "\n",
        "timestamp = le.fit_transform(list(df_test[\"Timestamp\"]))\n",
        "fl_dur = le.fit_transform(list(df_test[\"Flow Duration\"]))\n",
        "pk_size_avrg = le.fit_transform(list(df_test[\"Pkt Size Avg\"]))\n",
        "fwd_pkts = le.fit_transform(list(df_test[\"Fwd Pkts/s\"]))\n",
        "bwd_pkts = le.fit_transform(list(df_test[\"Bwd Pkts/s\"]))\n",
        "flow_byts = le.fit_transform(list(df_test[\"Flow Byts/s\"]))\n",
        "flow_pkts = le.fit_transform(list(df_test[\"Flow Pkts/s\"]))\n",
        "Label = le.fit_transform(list(df_test['Label']))\n",
        "\n",
        "#X - data on which AI is testing itself\n",
        "X_test = list(zip(timestamp, fl_dur, pk_size_avrg, fwd_pkts, bwd_pkts, flow_byts, flow_pkts)) \n",
        "#Y - data which says if data is normal or is anomaly \n",
        "Y_test = list(Label) \n",
        "\n",
        "x_train2, x_test, y_train2, y_test = sklearn.model_selection.train_test_split(X_test, Y_test)"
      ],
      "execution_count": null,
      "outputs": []
    },
    {
      "cell_type": "code",
      "metadata": {
        "id": "HNOGvNRILZex",
        "colab": {
          "base_uri": "https://localhost:8080/"
        },
        "outputId": "ee1d9e60-e987-49d7-c00f-f110f90afa81"
      },
      "source": [
        "del X_test, Y_test, df_test, x_train2, y_train2\n",
        "gc.collect()"
      ],
      "execution_count": null,
      "outputs": [
        {
          "output_type": "execute_result",
          "data": {
            "text/plain": [
              "0"
            ]
          },
          "metadata": {
            "tags": []
          },
          "execution_count": 44
        }
      ]
    },
    {
      "cell_type": "markdown",
      "metadata": {
        "id": "KEM_aWUMIJ31"
      },
      "source": [
        "# **Testing our model on Unbalanced Dataset**"
      ]
    },
    {
      "cell_type": "code",
      "metadata": {
        "colab": {
          "base_uri": "https://localhost:8080/"
        },
        "id": "W1Z9oATxY4t_",
        "outputId": "52d95370-b6af-4d3d-c538-9b011d72ea16"
      },
      "source": [
        "acc = model.score(x_test, y_test)\n",
        "print(\"Prediction accuracy: \", acc)"
      ],
      "execution_count": null,
      "outputs": [
        {
          "output_type": "stream",
          "text": [
            "Prediction accuracy:  0.8769830599623555\n"
          ],
          "name": "stdout"
        }
      ]
    },
    {
      "cell_type": "code",
      "metadata": {
        "id": "fPIrepIvJZLo",
        "colab": {
          "base_uri": "https://localhost:8080/"
        },
        "outputId": "17dbf59b-5d60-410f-c299-825d53bd40fc"
      },
      "source": [
        "y_pred = model.predict(x_test)\n",
        "confusion_matrix(y_test, y_pred)"
      ],
      "execution_count": null,
      "outputs": [
        {
          "output_type": "execute_result",
          "data": {
            "text/plain": [
              "array([[1535109,   45419],\n",
              "       [ 188821,  134779]])"
            ]
          },
          "metadata": {
            "tags": []
          },
          "execution_count": 46
        }
      ]
    },
    {
      "cell_type": "code",
      "metadata": {
        "id": "PjMJ-qR0az9C",
        "colab": {
          "base_uri": "https://localhost:8080/",
          "height": 290
        },
        "outputId": "42744573-05fc-43a3-b882-2e20e1537235"
      },
      "source": [
        "plot_confusion_matrix(model, x_test, y_test)\n",
        "plt.show()"
      ],
      "execution_count": null,
      "outputs": [
        {
          "output_type": "display_data",
          "data": {
            "image/png": "[encoded data removed]",
            "text/plain": [
              "<Figure size 432x288 with 2 Axes>"
            ]
          },
          "metadata": {
            "tags": [],
            "needs_background": "light"
          }
        }
      ]
    },
    {
      "cell_type": "code",
      "metadata": {
        "colab": {
          "base_uri": "https://localhost:8080/"
        },
        "id": "nbXZEXqZZAIQ",
        "outputId": "4b178b6e-3ea9-4b47-c516-d45568e32728"
      },
      "source": [
        "precision_m = precision_score(y_test, y_pred, average=None)\n",
        "print(\"Precision in benign traffic detection: \", precision_m[0])\n",
        "print(\"Precision in DDoS traffic detection:   \", precision_m[1])"
      ],
      "execution_count": null,
      "outputs": [
        {
          "output_type": "stream",
          "text": [
            "Precision in benign traffic detection:  0.8904706107556571\n",
            "Precision in DDoS traffic detection:    0.7479494777966459\n"
          ],
          "name": "stdout"
        }
      ]
    },
    {
      "cell_type": "code",
      "metadata": {
        "colab": {
          "base_uri": "https://localhost:8080/"
        },
        "id": "-XpZdZsdZEgc",
        "outputId": "538d806f-ed7b-41f0-9309-db2f459b41b6"
      },
      "source": [
        "recall_m = recall_score(y_test, y_pred, average=None)\n",
        "print(\"Recall of benign traffic: \", recall_m[0])\n",
        "print(\"Recall of DDoS traffic:   \", recall_m[1])"
      ],
      "execution_count": null,
      "outputs": [
        {
          "output_type": "stream",
          "text": [
            "Recall of benign traffic:  0.971263400585121\n",
            "Recall of DDoS traffic:    0.41649876390605683\n"
          ],
          "name": "stdout"
        }
      ]
    },
    {
      "cell_type": "code",
      "metadata": {
        "id": "s7k5XuigLjAE",
        "colab": {
          "base_uri": "https://localhost:8080/"
        },
        "outputId": "e0277acb-105e-4258-f998-65b063da3d4d"
      },
      "source": [
        "loss = log_loss(y_test, y_pred)\n",
        "print(loss)"
      ],
      "execution_count": null,
      "outputs": [
        {
          "output_type": "stream",
          "text": [
            "4.248873657474477\n"
          ],
          "name": "stdout"
        }
      ]
    },
    {
      "cell_type": "code",
      "metadata": {
        "id": "Tiw08CfkeDLy",
        "colab": {
          "base_uri": "https://localhost:8080/",
          "height": 191
        },
        "outputId": "8c9d8f61-4bb1-422b-b936-55acf406e2b5"
      },
      "source": [
        "# if we don't want colab to disconnect from session\n",
        "while True:pass"
      ],
      "execution_count": null,
      "outputs": [
        {
          "output_type": "error",
          "ename": "KeyboardInterrupt",
          "evalue": "ignored",
          "traceback": [
            "\u001b[0;31m---------------------------------------------------------------------------\u001b[0m",
            "\u001b[0;31mKeyboardInterrupt\u001b[0m                         Traceback (most recent call last)",
            "\u001b[0;32m<ipython-input-43-984feba246c5>\u001b[0m in \u001b[0;36m<module>\u001b[0;34m()\u001b[0m\n\u001b[1;32m      1\u001b[0m \u001b[0;31m# if we don't want colab to disconnect from session\u001b[0m\u001b[0;34m\u001b[0m\u001b[0;34m\u001b[0m\u001b[0;34m\u001b[0m\u001b[0m\n\u001b[0;32m----> 2\u001b[0;31m \u001b[0;32mwhile\u001b[0m \u001b[0;32mTrue\u001b[0m\u001b[0;34m:\u001b[0m\u001b[0;32mpass\u001b[0m\u001b[0;34m\u001b[0m\u001b[0;34m\u001b[0m\u001b[0m\n\u001b[0m",
            "\u001b[0;31mKeyboardInterrupt\u001b[0m: "
          ]
        }
      ]
    },
    {
      "cell_type": "code",
      "metadata": {
        "id": "9K0NVuAwNRHU"
      },
      "source": [
        "#del model\n",
        "del traindf, split\n",
        "gc.collect()"
      ],
      "execution_count": null,
      "outputs": []
    },
    {
      "cell_type": "markdown",
      "metadata": {
        "id": "MxH53bqoy4HV"
      },
      "source": [
        "# **Conclusions**"
      ]
    },
    {
      "cell_type": "markdown",
      "metadata": {
        "id": "xibm0zXBy7vE"
      },
      "source": [
        "In unbalanced dataset, our algorithm is very precise in determining Benign traffic, but much less efficient in catching DDoS traffic. We are quite convinced, that further data processing would solve the problem, since we were training our model on wrongly balanced dataset."
      ]
    },
    {
      "cell_type": "markdown",
      "metadata": {
        "id": "dq-2Z4NgyjAR"
      },
      "source": [
        "Model saving"
      ]
    },
    {
      "cell_type": "code",
      "metadata": {
        "id": "a7KEJd-ohnxk"
      },
      "source": [
        "traindf.to_csv('traindf.csv')\n",
        "with open(\"ddosdetectormodel.pickle\",\"wb\") as ddos:\n",
        "  pickle.dump(model, ddos)"
      ],
      "execution_count": null,
      "outputs": []
    },
    {
      "cell_type": "markdown",
      "metadata": {
        "id": "HFh1ObxHao_b"
      },
      "source": [
        "Model loading"
      ]
    },
    {
      "cell_type": "code",
      "metadata": {
        "id": "sUKghy9lL_3s"
      },
      "source": [
        "#wczytanie zapisanego przez nas modelu\n",
        "pickle_read = open(\"ddosdetectormodel.pickle\", \"rb\")\n",
        "model = pickle.load(pickle_read)"
      ],
      "execution_count": null,
      "outputs": []
    },
    {
      "cell_type": "markdown",
      "metadata": {
        "id": "sv45fpKMY4ei"
      },
      "source": [
        "# **Future plans**"
      ]
    },
    {
      "cell_type": "markdown",
      "metadata": {
        "id": "DrkhwSiaZywo"
      },
      "source": [
        "Next step of project would be to use created model, which would gather information about traffic in network and detect possible ddos attacks. When detected, it would inform us about attack. \n",
        "Futher implementation would be done on Raspberry Pi 4B.\n"
      ]
    }
  ]
}